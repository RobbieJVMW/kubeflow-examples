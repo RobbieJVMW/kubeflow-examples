{
 "cells": [
  {
   "cell_type": "code",
   "execution_count": null,
   "metadata": {},
   "outputs": [],
   "source": [
    "# Download the pipeline source\n",
    "!wget https://github.com/arrikto/kubeflow-examples/raw/kubecon-demo/taxi-cab-on-prem/taxi-cab-pipeline-snap.py"
   ]
  },
  {
   "cell_type": "code",
   "execution_count": null,
   "metadata": {},
   "outputs": [],
   "source": [
    "# Bring in the data\n",
    "!git clone -b 0.1.25 https://github.com/kubeflow/pipelines"
   ]
  },
  {
   "cell_type": "code",
   "execution_count": null,
   "metadata": {},
   "outputs": [],
   "source": [
    "# Move the data into our data volume\n",
    "!cp -av pipelines/samples/tfx/taxi-cab-classification ~/data/"
   ]
  },
  {
   "cell_type": "code",
   "execution_count": null,
   "metadata": {},
   "outputs": [],
   "source": [
    "# Verify data existence\n",
    "!find ~/data && ls -la ~/data/taxi-cab-classification/train.csv"
   ]
  },
  {
   "cell_type": "code",
   "execution_count": null,
   "metadata": {},
   "outputs": [],
   "source": [
    "# Compile the pipeline\n",
    "!dsl-compile --py taxi-cab-pipeline-snap.py \\\n",
    "             --output taxi-cab-pipeline.tar.gz"
   ]
  },
  {
   "cell_type": "code",
   "execution_count": null,
   "metadata": {},
   "outputs": [],
   "source": [
    "# Verify output\n",
    "!tar tzvf taxi-cab-pipeline.tar.gz"
   ]
  },
  {
   "cell_type": "code",
   "execution_count": null,
   "metadata": {},
   "outputs": [],
   "source": [
    "# Upload pipeline\n",
    "import kfp\n",
    "c = kfp.Client()\n",
    "c.upload_pipeline(\"taxi-cab-pipeline.tar.gz\", \"taxi-cab-pipeline\")"
   ]
  }
 ],
 "metadata": {
  "kernelspec": {
   "display_name": "Python 3",
   "language": "python",
   "name": "python3"
  },
  "language_info": {
   "codemirror_mode": {
    "name": "ipython",
    "version": 3
   },
   "file_extension": ".py",
   "mimetype": "text/x-python",
   "name": "python",
   "nbconvert_exporter": "python",
   "pygments_lexer": "ipython3",
   "version": "3.6.7"
  }
 },
 "nbformat": 4,
 "nbformat_minor": 4
}
